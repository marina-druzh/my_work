{
 "cells": [
  {
   "cell_type": "code",
   "execution_count": null,
   "metadata": {
    "id": "YBeN0cOI0_WR"
   },
   "outputs": [],
   "source": [
    "# Установка необходимых библиотек\n",
    "!pip install PyPDF2[crypto]\n",
    "!pip install transformers"
   ]
  },
  {
   "cell_type": "code",
   "execution_count": null,
   "metadata": {
    "id": "9h0AHOFwzfPK"
   },
   "outputs": [],
   "source": [
    "import pandas as pd\n",
    "import numpy as np\n",
    "from PyPDF2 import PdfReader\n",
    "import re"
   ]
  },
  {
   "cell_type": "code",
   "execution_count": null,
   "metadata": {
    "colab": {
     "base_uri": "https://localhost:8080/"
    },
    "executionInfo": {
     "elapsed": 2176,
     "status": "ok",
     "timestamp": 1684611178043,
     "user": {
      "displayName": "Mario",
      "userId": "03141800039134927188"
     },
     "user_tz": -180
    },
    "id": "KJL1udDVfObv",
    "outputId": "fbb9b530-f5b0-4baf-db08-a90d0c901ae0"
   },
   "outputs": [
    {
     "name": "stdout",
     "output_type": "stream",
     "text": [
      "Drive already mounted at /content/drive; to attempt to forcibly remount, call drive.mount(\"/content/drive\", force_remount=True).\n"
     ]
    }
   ],
   "source": [
    "from google.colab import drive\n",
    "drive.mount('/content/drive')"
   ]
  },
  {
   "cell_type": "code",
   "execution_count": null,
   "metadata": {
    "colab": {
     "base_uri": "https://localhost:8080/"
    },
    "executionInfo": {
     "elapsed": 378,
     "status": "ok",
     "timestamp": 1684611231549,
     "user": {
      "displayName": "Mario",
      "userId": "03141800039134927188"
     },
     "user_tz": -180
    },
    "id": "5ernwiNMjQvI",
    "outputId": "46aae181-12c3-432f-dd5b-cc844f84fe27"
   },
   "outputs": [
    {
     "name": "stdout",
     "output_type": "stream",
     "text": [
      "['АГАЛ ШЕРСТИСТОЦВЕТКОВЫЙ', 'АДЕНОСТИЛЕС РОМБОЛИСТНЫЙ', 'АИР ОБЫКНОВЕННЫЙ', 'АЛИЯ ВЫСОКАЯ', 'АЛОЭ ДРЕВОВИДНОЕ', 'АЛТЕЙ ЛЕКАРСТВЕННЫЙ', 'АММИ БОЛЬШАЯ', 'АММИ ЗУБНАЯ', 'АНЕЦ ОБЫКНОВЕННЫЙ', 'АНИС ОБЫКНОВЕННЫЙ', 'АНТУС РОЗОВЫЙ', 'АПИВА ДВУДОМНАЯ', 'АПОНТИКУМ САФЛОРОВИДНЫЙ', 'АРИЯ ИСЛАНДСКАЯ', 'АРНИКА ГОРНАЯ', 'АРНИКА ШАМИССО', 'АРОНИЯ ЧЕРНОПЛОДНАЯ', 'АСАВКА ОБЫКНОВЕННАЯ', 'АСТОРОПША ПЯТНИСТАЯ', 'БАГУЛЬНИК БОЛОТНЫЙ', 'БАДАН ТОЛСТОЛИСТНЫЙ', 'БАРБАРИС ОБЫКНОВЕННЫЙ', 'БАРВИНОК МАЛЫЙ', 'БАРХАТ АМУРСКИЙ', 'БЕДРЕНЕЦ КАМНЕЛОМКА', 'БЕЗВРЕМЕННИК ВЕЛИКОЛЕПНЫЙ', 'БЕЛЕНА ЧЕРНАЯ', 'БЕЛОКОПЫТНИК ГИБРИДНЫЙ', 'БЕССМЕРТНИК ПЕСЧАНЫЙ', 'БКА ЛЕКАРСТВЕННАЯ', 'БОРЕЦ СЕВЕРНЫЙ', 'БРИОФИЛЛУМ ПЕРИСТЫЙ', 'БРУСНИКА ОБЫКНОВЕННАЯ', 'БУЗИНА ЧЕРНАЯ', 'ВАЛЕРИАНА ЛЕКАРСТВЕННАЯ', 'ВАСИЛЕК БЛАГОСЛОВЕННЫЙ', 'ВАСИЛЕК ПОСЕВНОЙ', 'ВЕРБЕНА ЛЕКАРСТВЕННАЯ', 'ВЗДУТОПЛОДНИК СИБИРСКИЙ', 'ВИНОГР АДОЛИСТНЫЙ', 'ВОЛОДУШКА ЗОЛОТИСТАЯ', 'ГАМАМЕЛИС ВИРГИНСКИЙ', 'ГОРЕЦ ЗМЕИНЫЙ', 'ГОРЕЦ ПЕРЕЧНЫЙ', 'ГОРЕЦ ПОЧЕЧУЙНЫЙ', 'ГОРЕЦ ПТИЧИЙ', 'ГОРИЦВЕТ ВЕСЕННИЙ', 'ГРЕЧИХА СЪЕДОБНАЯ', 'ГРЫЖНИК ГЛАДКИЙ', 'ДЕВЯСИЛ ВЫСОКИЙ', 'ДЕСМОДИУМ КАНАДСКИЙ', 'ДИОСКОРЕЯ НИППОНСКАЯ', 'ДОННИК ЛЕКАРСТВЕННЫЙ', 'ДУБ ОБЫКНОВЕННЫЙ', 'ДУРМАН ОБЫКНОВЕННЫЙ', 'ДУРНИШНИК ОБЫКНОВЕННЫЙ', 'ДУШИЦА ОБЫКНОВЕННАЯ', 'ЕЛЬ ОБЫКНОВЕННАЯ', 'ЖОСТЕР СЛАБИТЕЛЬНЫЙ', 'ЗАМАНИХА ВЫСОКАЯ', 'ЗВЕРОБОЙ ПРОДЫРЯВЛЕННЫЙ', 'ЗЕМЛЯНИКА ЛЕСНАЯ', 'ЗМЕЕГОЛОВНИК МОЛДАВСКИЙ', 'ЗОЛОТОТЫСЯЧНИК ОБЫКНОВЕННЫЙ', 'ИСТОД ТОНКОЛИСТНЫЙ', 'КАЛИНА ОБЫКНОВЕННАЯ', 'КАШТАН ОБЫКНОВЕННЫЙ', 'КОПЕЕЧНИК АЛЬПИЙСКИЙ', 'КОПЫТЕНЬ ЕВРОПЕЙСКИЙ', 'КОРИАНДР ПОСЕВНОЙ', 'КОРОВЯК ГУСТОЦВЕТКОВЫЙ', 'КРУШИНА ОЛЬХОВИДНАЯ', 'КУКУРУЗА ОБЫКНОВЕННАЯ', 'ЛАБАЗНИК ВЯЗОЛИСТНЫЙ', 'ЛАБАЗНИК ОБЫКНОВЕННЫЙ', 'ЛАМИНАРИЯ ЯПОНСКАЯ', 'ЛАНДЫШ КЕЙСКЕ', 'ЛАПЧАТКА БЕЛАЯ', 'ЛАПЧАТКА ПРЯМОСТОЯЧАЯ', 'ЛАПЧАТКА СЕРЕБРИСТАЯ', 'ЛЕСПЕДЕЦА ДВУЦВЕТНАЯ', 'ЛЕСПЕДЕЦА КОПЕЕЧНИКОВАЯ', 'ЛОПУХ БОЛЬШОЙ', 'МАГНОЛИЯ КРУПНОЦВЕТКОВАЯ', 'МАКЛЕЯ СЕРДЦЕВИДНАЯ', 'МАЛИНА ОБЫКНОВЕННАЯ', 'МЕЛИССА ЛЕКАРСТВЕННАЯ', 'МИНДАЛЬ ОБЫКНОВЕННЫЙ', 'МОЖЖЕВЕЛЬНИК ОБЫКНОВЕННЫЙ', 'МОРКОВЬ ДИКАЯ', 'МУХА ОБЫКНОВЕННАЯ', 'МЯТА ПЕРЕЧНАЯ', 'НАПЕРСТЯНКА КРУПНОЦВЕТКОВАЯ', 'ОБЛЕПИХА КРУШИНОВИДНАЯ', 'ОВЕС ПОСЕВНОЙ', 'ОДУВАНЧИК ИЗОГНУТЫЙ', 'ОРТОСИФОН ОСТИСТЫЙ', 'ОЧИТОК БОЛЬШОЙ', 'ПАЖИТНИК СЕННОЙ', 'ПАЛЬЧАТЫЙ ТАНГУТСКИЙ', 'ПАСТЕРНАК ПОСЕВНОЙ', 'ПЕРЕСТУПЕНЬ БЕЛЫЙ', 'ПЕРЕЦ ОДНОЛЕТНИЙ', 'ПИЖМА ОБЫКНОВЕННАЯ', 'ПЛАУН БУЛАВОВИДНЫЙ', 'ПОДОРОЖНИК БЛОШНЫЙ', 'ПОДОРОЖНИК БОЛЬШОЙ', 'ПОДОФИЛЛ ЩИТОВИДНЫЙ', 'ПОЛЫНЬ ОБЫКНОВЕННАЯ', 'ПРУТНЯК ОБЫКНОВЕННЫЙ', 'РЕПЕШОК ВОЛОСИСТЫЙ', 'РЕПЕШОК ОБЫКНОВЕННЫЙ', 'РОМАШКА АПТЕЧНАЯ', 'РОМАШКА БЕЗЪЯЗЫЧКОВАЯ', 'РЯБИНА ОБЫКНОВЕННАЯ', 'САБЕЛЬНИК БОЛОТНЫЙ', 'СВОБОДНОЯГОДНИК КОЛЮЧИЙ', 'СЕКУРИНЕГА ПОЛУКУСТАРНИКОВАЯ', 'СЕРПУХА ВЕНЦЕНОСНАЯ', 'СИНЮХА ГОЛУБАЯ', 'СКОПОЛИЯ КАРНИОЛИЙСКАЯ', 'СКУМПИЯ КОЖЕВЕННАЯ', 'СМОКОВНИЦА ОБЫКНОВЕННАЯ', 'СМОРОДИНА ЧЕРНАЯ', 'СОЛОДКА ГОЛАЯ', 'СПОРЫНЬЯ ПУРПУРОВАЯ', 'СТАЛЬНИК КОЛЮЧИЙ', 'СУМАХ ДУБИЛЬНЫЙ', 'СУМКА ОБЫКНОВЕННАЯ', 'ТЕРМОПСИС ЛАНЦЕТОВИДНЫЙ', 'ТИМЬЯН ОБЫКНОВЕННЫЙ', 'ТИМЬЯН ПОЛЗУЧИЙ', 'ТМИН ОБЫКНОВЕННЫЙ', 'ТОЛОКНЯНКА ОБЫКНОВЕННАЯ', 'ТЫКВА ОБЫКНОВЕННАЯ', 'ТЫСЯЧЕЛИСТНИК ОБЫКНОВЕННЫЙ', 'УКРОП ПАХУЧИЙ', 'ФАСОЛЬ ОБЫКНОВЕННАЯ', 'ФЕНХЕЛЬ ОБЫКНОВЕННЫЙ', 'ФЕРУЛА ВОНЮЧАЯ', 'ХВОЩ ПОЛЕВОЙ', 'ХМЕЛЬ ОБЫКНОВЕННЫЙ', 'ЦИКОРИЙ ОБЫКНОВЕННЫЙ', 'ЦИНЕР АРИЕЛИСТНЫЙ', 'ЧЕМЕРИЦА ЛОБЕЛЯ', 'ЧЕРНИКА ОБЫКНОВЕННАЯ', 'ЧЕРНУШКА ДАМАССКАЯ', 'ЧЕХА ОБЫКНОВЕННАЯ', 'ЧИСТОТЕЛ БОЛЬШОЙ', 'ШАЛФЕЙ ЛЕКАРСТВЕННЫЙ', 'ШИПОВНИК МАЙСКИЙ', 'ШЛЕМНИК БАЙКАЛЬСКИЙ', 'ЩАВЕЛЬ КОНСКИЙ', 'ЩИТОВНИК МУЖСКОЙ', 'ЭВКАЛИПТ ПРУТОВИДНЫЙ', 'ЭВКОММИЯ ВЯЗОЛИСТНАЯ', 'ЭРВА ШЕРСТИСТАЯ', 'ЭХИНАЦЕЯ ПУРПУРНАЯ']\n"
     ]
    }
   ],
   "source": [
    "# Выделение списка растений из атласа\n",
    "q=[]\n",
    "with open('work_directory/Атлас_2021.txt') as f:\n",
    "    text = f.read()\n",
    "    #matches = re.findall(r\"[А-Я]+\\n\", text, re.MULTILINE)\n",
    "    matches = re.findall(r\"[А-Я]+(?:\\s[А-Я]+)?\\n\", text)\n",
    "    # matches = re.findall(r\"([А-Я]+\\s)+([А-Я]+)\\n\", text)\n",
    "    #matches = re.findall(r\"[А-Я]+\\s[А-Я]+\\n\", text)\n",
    "    matches = set(matches)\n",
    "    #print(matches)\n",
    "    for i in matches:\n",
    "        if ' ' in i:\n",
    "            q.append(i)\n",
    "q = sorted(q)\n",
    "regex = re.compile(r\"^[А-Я]{1,2}\\s\")\n",
    "filtered = [i[:-1] for i in q if not regex.search(i)]\n",
    "print(filtered)\n"
   ]
  },
  {
   "cell_type": "code",
   "execution_count": null,
   "metadata": {
    "id": "rdBkzmFhHY4b"
   },
   "outputs": [],
   "source": [
    "text1 = ' '.join(text.split('\\n'))"
   ]
  },
  {
   "cell_type": "code",
   "execution_count": null,
   "metadata": {
    "id": "8YlYpRXIjNYH"
   },
   "outputs": [],
   "source": [
    "# Разделение\n",
    "def split_to_columns(text1, column_list):\n",
    "  dict_ = {}\n",
    "  for i in range(len(column_list)-1):\n",
    "    r = re.findall(rf'{column_list[i]}(.*?){column_list[i+1]}', text1)\n",
    "    if r:\n",
    "        for j in r:\n",
    "          if 'Описание' in j:\n",
    "            dict_[column_list[i]] = j\n",
    "            # print('*'*100)  \n",
    "            # print(j)\n",
    "  return dict_\n"
   ]
  },
  {
   "cell_type": "code",
   "execution_count": null,
   "metadata": {
    "id": "Cfh4uifZJnKn"
   },
   "outputs": [],
   "source": [
    "split_text1 = split_to_columns(text1, filtered)\n"
   ]
  },
  {
   "cell_type": "code",
   "execution_count": null,
   "metadata": {
    "id": "folfLC_hLGgB"
   },
   "outputs": [],
   "source": [
    "with open('plants.txt', 'w+') as f:   \n",
    "    # write elements of list\n",
    "    for items in split_text1.keys():\n",
    "        f.write('%s\\n' %items)"
   ]
  },
  {
   "cell_type": "code",
   "execution_count": null,
   "metadata": {
    "id": "R9npNTwBwcZq"
   },
   "outputs": [],
   "source": [
    "abstracts = ['Описание.', 'Ареал.', 'Экология.', 'Ресурсы.', 'Химический состав.', 'Сырье.', 'Фармокологические свойства.', 'Применение в медицине.']"
   ]
  },
  {
   "cell_type": "code",
   "execution_count": null,
   "metadata": {
    "id": "uGWH2leu5axA"
   },
   "outputs": [],
   "source": [
    "keys = split_text1.keys()\n",
    "plant_info = []\n",
    "for i, key in enumerate(keys):\n",
    "  details = {}\n",
    "  for j in range(len(abstracts) - 1):\n",
    "    row = split_text1[key]\n",
    "    start_pos = split_text1[key].find(abstracts[j])\n",
    "    end_pos = split_text1[key].find(abstracts[j+1])\n",
    "    details['Название.'] = key\n",
    "    details[abstracts[j]] = row[start_pos+len(abstracts[j]):end_pos].strip()\n",
    "    if j == (len(abstracts) - 2):\n",
    "      start_pos = row.find(abstracts[j+1])\n",
    "      details['Применение в медицине.'] = row[start_pos+len(abstracts[j+1]):].strip()\n",
    "      \n",
    "  plant_info.append(details)"
   ]
  },
  {
   "cell_type": "code",
   "execution_count": null,
   "metadata": {
    "colab": {
     "base_uri": "https://localhost:8080/"
    },
    "executionInfo": {
     "elapsed": 29,
     "status": "ok",
     "timestamp": 1684611234386,
     "user": {
      "displayName": "Mario",
      "userId": "03141800039134927188"
     },
     "user_tz": -180
    },
    "id": "NhShCkZSdSfl",
    "outputId": "69988347-1e6f-4d6d-b50a-406547903bcf"
   },
   "outputs": [
    {
     "data": {
      "text/plain": [
       "dict_keys(['Название.', 'Описание.', 'Ареал.', 'Экология.', 'Ресурсы.', 'Химический состав.', 'Сырье.', 'Фармокологические свойства.', 'Применение в медицине.'])"
      ]
     },
     "execution_count": 63,
     "metadata": {},
     "output_type": "execute_result"
    }
   ],
   "source": [
    "plant_info[0].keys()"
   ]
  },
  {
   "cell_type": "code",
   "execution_count": null,
   "metadata": {
    "id": "mB7tWGIoZhD5"
   },
   "outputs": [],
   "source": [
    "df = pd.DataFrame(plant_info)"
   ]
  },
  {
   "cell_type": "code",
   "execution_count": null,
   "metadata": {
    "id": "btt3elsBkCLb"
   },
   "outputs": [],
   "source": [
    "import torch\n",
    "from transformers import AutoTokenizer, AutoModelWithLMHead, AutoModelForCausalLM, AutoModelForSeq2SeqLM, pipeline"
   ]
  },
  {
   "cell_type": "code",
   "execution_count": null,
   "metadata": {
    "colab": {
     "base_uri": "https://localhost:8080/"
    },
    "executionInfo": {
     "elapsed": 24,
     "status": "ok",
     "timestamp": 1684611234388,
     "user": {
      "displayName": "Mario",
      "userId": "03141800039134927188"
     },
     "user_tz": -180
    },
    "id": "FWdlQGBRrgAR",
    "outputId": "a236600d-700c-4230-9474-9d747a5b8599"
   },
   "outputs": [
    {
     "data": {
      "text/plain": [
       "device(type='cuda', index=0)"
      ]
     },
     "execution_count": 66,
     "metadata": {},
     "output_type": "execute_result"
    }
   ],
   "source": [
    "dev = \"cuda:0\" if torch.cuda.is_available() else \"cpu\"\n",
    "device = torch.device(dev)\n",
    "device"
   ]
  },
  {
   "cell_type": "code",
   "execution_count": null,
   "metadata": {
    "id": "OqsTJ1jEkq5-"
   },
   "outputs": [],
   "source": [
    "qa_pipeline = pipeline(\n",
    "     \"question-answering\",\n",
    "     model=\"Den4ikAI/rubert_large_squad_2\",\n",
    "     tokenizer=\"Den4ikAI/rubert_large_squad_2\",\n",
    "     device=device)"
   ]
  },
  {
   "cell_type": "code",
   "execution_count": null,
   "metadata": {
    "id": "V6RFsINBlApx"
   },
   "outputs": [],
   "source": [
    "def predict(context, msg):\n",
    "  prediction =  qa_pipeline({\n",
    "      'context': context.lower(),\n",
    "      'question': msg\n",
    "  })\n",
    "  return prediction['answer']"
   ]
  },
  {
   "cell_type": "code",
   "execution_count": null,
   "metadata": {
    "id": "XbUcU8b_iAMI"
   },
   "outputs": [],
   "source": [
    "df['Ресурсы.'] = df['Ресурсы.'].apply(lambda x: str(x).replace(' - ', ''))"
   ]
  },
  {
   "cell_type": "code",
   "execution_count": null,
   "metadata": {
    "id": "UmzvBqXDrcqk"
   },
   "outputs": [],
   "source": [
    "df['Фармокологические свойства.'] = df['Фармокологические свойства.'].apply(lambda x: str(x).replace(' - ', ''))"
   ]
  },
  {
   "cell_type": "code",
   "execution_count": null,
   "metadata": {
    "id": "oDJlT-hJ6wAi"
   },
   "outputs": [],
   "source": [
    "df['Химический состав.'] = df['Химический состав.'].apply(lambda x: str(x).replace(' - ', '')) "
   ]
  },
  {
   "cell_type": "code",
   "execution_count": null,
   "metadata": {
    "id": "Z2RSqEAmg-Wq"
   },
   "outputs": [],
   "source": [
    "df.dropna(inplace=True)"
   ]
  },
  {
   "cell_type": "code",
   "execution_count": null,
   "metadata": {
    "colab": {
     "base_uri": "https://localhost:8080/"
    },
    "executionInfo": {
     "elapsed": 49165,
     "status": "ok",
     "timestamp": 1684611287962,
     "user": {
      "displayName": "Mario",
      "userId": "03141800039134927188"
     },
     "user_tz": -180
    },
    "id": "-AwCq5Guk23A",
    "outputId": "eda1bac6-2bcf-4dcc-dfe9-3a5cc4f6ef66"
   },
   "outputs": [
    {
     "name": "stderr",
     "output_type": "stream",
     "text": [
      "/usr/local/lib/python3.10/dist-packages/transformers/pipelines/base.py:1080: UserWarning: You seem to be using the pipelines sequentially on GPU. In order to maximize efficiency please use a dataset\n",
      "  warnings.warn(\n"
     ]
    }
   ],
   "source": [
    "df['Период сбора урожая'] = df['Ресурсы.'].apply(lambda x: predict(str(x), 'когда производят уборку урожая') if x else 'No context available')"
   ]
  },
  {
   "cell_type": "code",
   "execution_count": null,
   "metadata": {
    "colab": {
     "base_uri": "https://localhost:8080/"
    },
    "executionInfo": {
     "elapsed": 54908,
     "status": "ok",
     "timestamp": 1684611342862,
     "user": {
      "displayName": "Mario",
      "userId": "03141800039134927188"
     },
     "user_tz": -180
    },
    "id": "2B9A6b_ynz2H",
    "outputId": "077b3519-7d69-4a24-808d-ff5ada450485"
   },
   "outputs": [
    {
     "name": "stderr",
     "output_type": "stream",
     "text": [
      "/usr/local/lib/python3.10/dist-packages/transformers/pipelines/base.py:1080: UserWarning: You seem to be using the pipelines sequentially on GPU. In order to maximize efficiency please use a dataset\n",
      "  warnings.warn(\n"
     ]
    }
   ],
   "source": [
    "df['Потребность'] = df['Ресурсы.'].apply(lambda x: predict(str(x), 'ежегодная потребность сырья') if x else 'No context available')"
   ]
  },
  {
   "cell_type": "code",
   "execution_count": null,
   "metadata": {
    "colab": {
     "base_uri": "https://localhost:8080/"
    },
    "executionInfo": {
     "elapsed": 50306,
     "status": "ok",
     "timestamp": 1684611393163,
     "user": {
      "displayName": "Mario",
      "userId": "03141800039134927188"
     },
     "user_tz": -180
    },
    "id": "XwE1hS-9gW5Q",
    "outputId": "0aa0c263-dc33-49f5-8abc-b7764ebc233b"
   },
   "outputs": [
    {
     "name": "stderr",
     "output_type": "stream",
     "text": [
      "/usr/local/lib/python3.10/dist-packages/transformers/pipelines/base.py:1080: UserWarning: You seem to be using the pipelines sequentially on GPU. In order to maximize efficiency please use a dataset\n",
      "  warnings.warn(\n"
     ]
    }
   ],
   "source": [
    "df['Период посева'] = df['Ресурсы.'].apply(lambda x: predict(str(x), 'когда производят посев') if x else 'No context available')"
   ]
  },
  {
   "cell_type": "code",
   "execution_count": null,
   "metadata": {
    "colab": {
     "base_uri": "https://localhost:8080/"
    },
    "executionInfo": {
     "elapsed": 162627,
     "status": "ok",
     "timestamp": 1684611555786,
     "user": {
      "displayName": "Mario",
      "userId": "03141800039134927188"
     },
     "user_tz": -180
    },
    "id": "8bCBBlgg1yv7",
    "outputId": "3c6ddec7-e865-4297-ba61-6e42288ac7e7"
   },
   "outputs": [
    {
     "name": "stderr",
     "output_type": "stream",
     "text": [
      "/usr/local/lib/python3.10/dist-packages/transformers/pipelines/base.py:1080: UserWarning: You seem to be using the pipelines sequentially on GPU. In order to maximize efficiency please use a dataset\n",
      "  warnings.warn(\n"
     ]
    }
   ],
   "source": [
    "df['Содержание в мед препаратах'] = df['Химический состав.'].apply(lambda x: predict(str(x), 'в каких медицинских препаратах содержится, наименование') if x else 'No context available')"
   ]
  },
  {
   "cell_type": "code",
   "execution_count": null,
   "metadata": {
    "id": "BRT1k-j97Gu_"
   },
   "outputs": [],
   "source": [
    "df['Основной компонент'] = df['Химический состав.'].apply(lambda x: predict(str(x), 'основной компонент') if x else 'No context available')"
   ]
  },
  {
   "cell_type": "code",
   "execution_count": null,
   "metadata": {
    "id": "hw80fCIdLEV2"
   },
   "outputs": [],
   "source": [
    "df['Типы почв'] = df['Экология.'].apply(lambda x: predict(str(x), 'типы почв') if x else 'No context available')"
   ]
  },
  {
   "cell_type": "code",
   "execution_count": null,
   "metadata": {
    "id": "RXoAqzsKsicv"
   },
   "outputs": [],
   "source": [
    "df.to_csv('table.csv')"
   ]
  },
  {
   "cell_type": "code",
   "execution_count": null,
   "metadata": {
    "colab": {
     "base_uri": "https://localhost:8080/",
     "height": 1000
    },
    "executionInfo": {
     "elapsed": 20,
     "status": "ok",
     "timestamp": 1684611717289,
     "user": {
      "displayName": "Mario",
      "userId": "03141800039134927188"
     },
     "user_tz": -180
    },
    "id": "jg2Bwl9ghcDp",
    "outputId": "e9fadd65-aa13-47b3-971b-d1e096c7cff6"
   },
   "outputs": [
    {
     "data": {
      "text/html": [
       "\n",
       "  <div id=\"df-cc2846fc-d722-47d7-88d0-806dca3b1e65\">\n",
       "    <div class=\"colab-df-container\">\n",
       "      <div>\n",
       "<style scoped>\n",
       "    .dataframe tbody tr th:only-of-type {\n",
       "        vertical-align: middle;\n",
       "    }\n",
       "\n",
       "    .dataframe tbody tr th {\n",
       "        vertical-align: top;\n",
       "    }\n",
       "\n",
       "    .dataframe thead th {\n",
       "        text-align: right;\n",
       "    }\n",
       "</style>\n",
       "<table border=\"1\" class=\"dataframe\">\n",
       "  <thead>\n",
       "    <tr style=\"text-align: right;\">\n",
       "      <th></th>\n",
       "      <th>Название.</th>\n",
       "      <th>Описание.</th>\n",
       "      <th>Ареал.</th>\n",
       "      <th>Экология.</th>\n",
       "      <th>Ресурсы.</th>\n",
       "      <th>Химический состав.</th>\n",
       "      <th>Сырье.</th>\n",
       "      <th>Фармокологические свойства.</th>\n",
       "      <th>Применение в медицине.</th>\n",
       "      <th>Период сбора урожая</th>\n",
       "      <th>Потребность</th>\n",
       "      <th>Период посева</th>\n",
       "      <th>Содержание в мед препаратах</th>\n",
       "      <th>Основной компонент</th>\n",
       "    </tr>\n",
       "  </thead>\n",
       "  <tbody>\n",
       "    <tr>\n",
       "      <th>0</th>\n",
       "      <td>АГАЛ ШЕРСТИСТОЦВЕТКОВЫЙ</td>\n",
       "      <td>Летнезеленый травянистый многолетник.  Корнева...</td>\n",
       "      <td>Астрагал шерстистоцветковый – причерномор - ск...</td>\n",
       "      <td>Степной вид, обитающий на целинных  участках. ...</td>\n",
       "      <td>Растение считается реликтовым. Его местопроизр...</td>\n",
       "      <td>В траве содержатся флавоноиды,  сумма которых ...</td>\n",
       "      <td>Качество сырья нормировалось Госу - дарственно...</td>\n",
       "      <td>l. Семейство бобовые (мотыльковые) – Fabaceae ...</td>\n",
       "      <td>Траву багульника в виде  настоя используют при...</td>\n",
       "      <td>в сухую погоду в фазу цветения</td>\n",
       "      <td>около 20 % от массы свежесобранного</td>\n",
       "      <td>в начале цветения</td>\n",
       "      <td>луб и листья бархата амурского</td>\n",
       "      <td>бетулин</td>\n",
       "    </tr>\n",
       "    <tr>\n",
       "      <th>1</th>\n",
       "      <td>АДЕНОСТИЛЕС РОМБОЛИСТНЫЙ</td>\n",
       "      <td>Травянистый многолетник высотой  50-150 (250) ...</td>\n",
       "      <td>Аденостилес ромболистный – эндемик  Кавказа. С...</td>\n",
       "      <td>Аденостилес растет в горно-лес - ном (преимуще...</td>\n",
       "      <td>Промысловые массивы аденостилеса  приурочены к...</td>\n",
       "      <td>ифиллиновый, крестовник ромболистный) Adenosty...</td>\n",
       "      <td>стовник платифиллиновый, крестовник ромболистн...</td>\n",
       "      <td>ый, крестовник ромболистный) Adenostyles  rhom...</td>\n",
       "      <td>линовый, крестовник ромболистный) Adenostyles ...</td>\n",
       "      <td>кратковременно</td>\n",
       "      <td>имеют тенденцию к сокращению</td>\n",
       "      <td>при язвенной болезни желудка и двенадцатиперст...</td>\n",
       "      <td>как в траве, так и в корневищах</td>\n",
       "      <td>алкалоид</td>\n",
       "    </tr>\n",
       "    <tr>\n",
       "      <th>2</th>\n",
       "      <td>АИР ОБЫКНОВЕННЫЙ</td>\n",
       "      <td>Многолетнее травянистое однодольное  растение ...</td>\n",
       "      <td>Ареал вида дизъюнктивный, состоит из  трех фра...</td>\n",
       "      <td>Аир обыкновенный — прибрежно-во - дное растени...</td>\n",
       "      <td>До 90-х годов XX в. корневища аира заготовляли...</td>\n",
       "      <td>В корневищах содержится  эфирное масло (до 6 %...</td>\n",
       "      <td>Качество сырья нормируется Государ - ственной ...</td>\n",
       "      <td>тво ароидные — Araceae Описание.  Многолетнее ...</td>\n",
       "      <td>Препараты из корневищ  аира применяются для ле...</td>\n",
       "      <td>летом, с июня  по сентябрь</td>\n",
       "      <td>100-120 т в год</td>\n",
       "      <td>летом, с июня  по сентябрь</td>\n",
       "      <td>борнеол, камфен</td>\n",
       "      <td>крахмал</td>\n",
       "    </tr>\n",
       "    <tr>\n",
       "      <th>3</th>\n",
       "      <td>АЛИЯ ВЫСОКАЯ</td>\n",
       "      <td>Травянистый многолетник высотой  50-150 (250) ...</td>\n",
       "      <td>Аденостилес ромболистный – эндемик  Кавказа. С...</td>\n",
       "      <td>Аденостилес растет в горно-лес - ном (преимуще...</td>\n",
       "      <td>Промысловые массивы аденостилеса  приурочены к...</td>\n",
       "      <td>В корневищах содержится  эфирное масло (до 6 %...</td>\n",
       "      <td>Качество сырья нормируется Государ - ственной ...</td>\n",
       "      <td>.................................................</td>\n",
       "      <td>Препараты из корневищ  аира применяются для ле...</td>\n",
       "      <td>ежегодно</td>\n",
       "      <td>не более 30 % общего их  запаса</td>\n",
       "      <td>подвяливают на открытом воздухе</td>\n",
       "      <td>борнеол, камфен</td>\n",
       "      <td>крахмал</td>\n",
       "    </tr>\n",
       "    <tr>\n",
       "      <th>4</th>\n",
       "      <td>АЛОЭ ДРЕВОВИДНОЕ</td>\n",
       "      <td>Суккулентный кустарник высотой до  5 м. В Росс...</td>\n",
       "      <td>Родина алоэ — Южная Африка и некото -рые остро...</td>\n",
       "      <td>ник) Alоe arborescens  Mill. Семейство ксантор...</td>\n",
       "      <td>В России нет дикорастущего алоэ. В нашей стран...</td>\n",
       "      <td>arborescens  Mill. Семейство ксанторреевые— Xa...</td>\n",
       "      <td>летник) Alоe arborescens  Mill. Семейство ксан...</td>\n",
       "      <td>ens  Mill. Семейство ксанторреевые— Xanthorrho...</td>\n",
       "      <td>Из свежих листьев алоэ  выпускают препараты: а...</td>\n",
       "      <td>хорошо развитые нижние и средние листья</td>\n",
       "      <td>повышенной потребностью в железе</td>\n",
       "      <td>зимой</td>\n",
       "      <td>антрахиноны</td>\n",
       "      <td>сырьё</td>\n",
       "    </tr>\n",
       "    <tr>\n",
       "      <th>...</th>\n",
       "      <td>...</td>\n",
       "      <td>...</td>\n",
       "      <td>...</td>\n",
       "      <td>...</td>\n",
       "      <td>...</td>\n",
       "      <td>...</td>\n",
       "      <td>...</td>\n",
       "      <td>...</td>\n",
       "      <td>...</td>\n",
       "      <td>...</td>\n",
       "      <td>...</td>\n",
       "      <td>...</td>\n",
       "      <td>...</td>\n",
       "      <td>...</td>\n",
       "    </tr>\n",
       "    <tr>\n",
       "      <th>147</th>\n",
       "      <td>ЩАВЕЛЬ КОНСКИЙ</td>\n",
       "      <td>Многолетнее травянистое растение вы - сотой 60...</td>\n",
       "      <td>ель густой) Rumex confertus Willd . Семейство ...</td>\n",
       "      <td>R. confertus — мезофильное растение.  Распрост...</td>\n",
       "      <td>Промысловые запасы выявлены на Алтае (в пойме ...</td>\n",
       "      <td>Rumex confertus Willd . Семейство гречишные — ...</td>\n",
       "      <td>ель густой) Rumex confertus Willd . Семейство ...</td>\n",
       "      <td>fertus Willd . Семейство гречишные — Polygonac...</td>\n",
       "      <td>Препараты конского ща - веля применяют для леч...</td>\n",
       "      <td>сенокосных угодий от этого растения</td>\n",
       "      <td>около 3 тыс. т.</td>\n",
       "      <td>осенью</td>\n",
       "      <td>стероиды; смолы</td>\n",
       "      <td>щавель</td>\n",
       "    </tr>\n",
       "    <tr>\n",
       "      <th>148</th>\n",
       "      <td>ЩИТОВНИК МУЖСКОЙ</td>\n",
       "      <td>тник мужской) Dryopteris filix-mas (L.) Schott...</td>\n",
       "      <td>оротник мужской) Dryopteris filix-mas (L.) Sch...</td>\n",
       "      <td>Шитовник мужской — мезофильное,  лесное растен...</td>\n",
       "      <td>Ежегодная потребность в сырье щитовника мужско...</td>\n",
       "      <td>кой) Dryopteris filix-mas (L.) Schott Семейств...</td>\n",
       "      <td>оротник мужской) Dryopteris filix-mas (L.) Sch...</td>\n",
       "      <td>pteris filix-mas (L.) Schott Семейство щитовни...</td>\n",
       "      <td>Способность препара - тов щитовника мужского (...</td>\n",
       "      <td>сушат в тени</td>\n",
       "      <td>450 т</td>\n",
       "      <td>осенью</td>\n",
       "      <td>корневища щитовника мужского</td>\n",
       "      <td>компонентный состав и биологическая активность</td>\n",
       "    </tr>\n",
       "    <tr>\n",
       "      <th>149</th>\n",
       "      <td>ЭВКАЛИПТ ПРУТОВИДНЫЙ</td>\n",
       "      <td>tus  viminalis  Labill . Семейство миртовые – ...</td>\n",
       "      <td>Юго-Восточная и Южная Австралия и Та - смания....</td>\n",
       "      <td>Отличается довольно высокой морозо - стойкость...</td>\n",
       "      <td>Заготовка даже нескольких центнеров  листа в Р...</td>\n",
       "      <td>В листьях эвкалипта содержится эфирное масло (...</td>\n",
       "      <td>lyptus  viminalis  Labill . Семейство миртовые...</td>\n",
       "      <td>bill . Семейство миртовые – Myrtaceae Описание...</td>\n",
       "      <td>Препараты используют  в качестве антисептическ...</td>\n",
       "      <td>в осенне-зимний период</td>\n",
       "      <td>медицины</td>\n",
       "      <td>в осенне-зимний период</td>\n",
       "      <td>фитопрепараты вилар</td>\n",
       "      <td>психозы</td>\n",
       "    </tr>\n",
       "    <tr>\n",
       "      <th>150</th>\n",
       "      <td>ЭВКОММИЯ ВЯЗОЛИСТНАЯ</td>\n",
       "      <td>Небольшое листопадное двудомное  (очень редко ...</td>\n",
       "      <td>Распространена в горных районах Запад - ного и...</td>\n",
       "      <td>Растение предпочитает увлажненные  почвы, но и...</td>\n",
       "      <td>Потребность в сырье обеспечивалась за  счет по...</td>\n",
       "      <td>В коре содержится гуттаперча (около 8 %); стер...</td>\n",
       "      <td>тайское гуттаперчевое дерево) Eucommia  ulmoid...</td>\n",
       "      <td>дерево) Eucommia  ulmoides  Oliv. Семейство эв...</td>\n",
       "      <td>В китайской и тибетской  медицине лечебные сво...</td>\n",
       "      <td>после 4 лет выращивания и ухода на протяжении ...</td>\n",
       "      <td>обеспечивалась за  счет порослевокустового кул...</td>\n",
       "      <td>после 4 лет выращивания и ухода на протяжении ...</td>\n",
       "      <td>стероиды</td>\n",
       "      <td>гуттаперча</td>\n",
       "    </tr>\n",
       "    <tr>\n",
       "      <th>151</th>\n",
       "      <td>ЭРВА ШЕРСТИСТАЯ</td>\n",
       "      <td>Многолетнее травянистое растение вы - сотой до...</td>\n",
       "      <td>Эрва шерстистая родом из Южной Азии,  распрост...</td>\n",
       "      <td>Широко распространенный сорняк  в засушливых ч...</td>\n",
       "      <td>Поставки  сырья эрвы шерстистой в Россию осуще...</td>\n",
       "      <td>В надземной части (траве)  содержатся флавонои...</td>\n",
       "      <td>Качество сырья нормируется Частной фар - макоп...</td>\n",
       "      <td>(L.) Juss. Семейство амарантовые – Amaranthace...</td>\n",
       "      <td>nаta (L.) Juss. Семейство амарантовые – Amaran...</td>\n",
       "      <td>с середины октября</td>\n",
       "      <td>лекарственное сырьё досушивают до  стандартной...</td>\n",
       "      <td>при активном  вентилировании</td>\n",
       "      <td>в минорных количествах</td>\n",
       "      <td>компонентный состав и биологическая активность</td>\n",
       "    </tr>\n",
       "  </tbody>\n",
       "</table>\n",
       "<p>152 rows × 14 columns</p>\n",
       "</div>\n",
       "      <button class=\"colab-df-convert\" onclick=\"convertToInteractive('df-cc2846fc-d722-47d7-88d0-806dca3b1e65')\"\n",
       "              title=\"Convert this dataframe to an interactive table.\"\n",
       "              style=\"display:none;\">\n",
       "        \n",
       "  <svg xmlns=\"http://www.w3.org/2000/svg\" height=\"24px\"viewBox=\"0 0 24 24\"\n",
       "       width=\"24px\">\n",
       "    <path d=\"M0 0h24v24H0V0z\" fill=\"none\"/>\n",
       "    <path d=\"M18.56 5.44l.94 2.06.94-2.06 2.06-.94-2.06-.94-.94-2.06-.94 2.06-2.06.94zm-11 1L8.5 8.5l.94-2.06 2.06-.94-2.06-.94L8.5 2.5l-.94 2.06-2.06.94zm10 10l.94 2.06.94-2.06 2.06-.94-2.06-.94-.94-2.06-.94 2.06-2.06.94z\"/><path d=\"M17.41 7.96l-1.37-1.37c-.4-.4-.92-.59-1.43-.59-.52 0-1.04.2-1.43.59L10.3 9.45l-7.72 7.72c-.78.78-.78 2.05 0 2.83L4 21.41c.39.39.9.59 1.41.59.51 0 1.02-.2 1.41-.59l7.78-7.78 2.81-2.81c.8-.78.8-2.07 0-2.86zM5.41 20L4 18.59l7.72-7.72 1.47 1.35L5.41 20z\"/>\n",
       "  </svg>\n",
       "      </button>\n",
       "      \n",
       "  <style>\n",
       "    .colab-df-container {\n",
       "      display:flex;\n",
       "      flex-wrap:wrap;\n",
       "      gap: 12px;\n",
       "    }\n",
       "\n",
       "    .colab-df-convert {\n",
       "      background-color: #E8F0FE;\n",
       "      border: none;\n",
       "      border-radius: 50%;\n",
       "      cursor: pointer;\n",
       "      display: none;\n",
       "      fill: #1967D2;\n",
       "      height: 32px;\n",
       "      padding: 0 0 0 0;\n",
       "      width: 32px;\n",
       "    }\n",
       "\n",
       "    .colab-df-convert:hover {\n",
       "      background-color: #E2EBFA;\n",
       "      box-shadow: 0px 1px 2px rgba(60, 64, 67, 0.3), 0px 1px 3px 1px rgba(60, 64, 67, 0.15);\n",
       "      fill: #174EA6;\n",
       "    }\n",
       "\n",
       "    [theme=dark] .colab-df-convert {\n",
       "      background-color: #3B4455;\n",
       "      fill: #D2E3FC;\n",
       "    }\n",
       "\n",
       "    [theme=dark] .colab-df-convert:hover {\n",
       "      background-color: #434B5C;\n",
       "      box-shadow: 0px 1px 3px 1px rgba(0, 0, 0, 0.15);\n",
       "      filter: drop-shadow(0px 1px 2px rgba(0, 0, 0, 0.3));\n",
       "      fill: #FFFFFF;\n",
       "    }\n",
       "  </style>\n",
       "\n",
       "      <script>\n",
       "        const buttonEl =\n",
       "          document.querySelector('#df-cc2846fc-d722-47d7-88d0-806dca3b1e65 button.colab-df-convert');\n",
       "        buttonEl.style.display =\n",
       "          google.colab.kernel.accessAllowed ? 'block' : 'none';\n",
       "\n",
       "        async function convertToInteractive(key) {\n",
       "          const element = document.querySelector('#df-cc2846fc-d722-47d7-88d0-806dca3b1e65');\n",
       "          const dataTable =\n",
       "            await google.colab.kernel.invokeFunction('convertToInteractive',\n",
       "                                                     [key], {});\n",
       "          if (!dataTable) return;\n",
       "\n",
       "          const docLinkHtml = 'Like what you see? Visit the ' +\n",
       "            '<a target=\"_blank\" href=https://colab.research.google.com/notebooks/data_table.ipynb>data table notebook</a>'\n",
       "            + ' to learn more about interactive tables.';\n",
       "          element.innerHTML = '';\n",
       "          dataTable['output_type'] = 'display_data';\n",
       "          await google.colab.output.renderOutput(dataTable, element);\n",
       "          const docLink = document.createElement('div');\n",
       "          docLink.innerHTML = docLinkHtml;\n",
       "          element.appendChild(docLink);\n",
       "        }\n",
       "      </script>\n",
       "    </div>\n",
       "  </div>\n",
       "  "
      ],
      "text/plain": [
       "                    Название.  \\\n",
       "0     АГАЛ ШЕРСТИСТОЦВЕТКОВЫЙ   \n",
       "1    АДЕНОСТИЛЕС РОМБОЛИСТНЫЙ   \n",
       "2            АИР ОБЫКНОВЕННЫЙ   \n",
       "3                АЛИЯ ВЫСОКАЯ   \n",
       "4            АЛОЭ ДРЕВОВИДНОЕ   \n",
       "..                        ...   \n",
       "147            ЩАВЕЛЬ КОНСКИЙ   \n",
       "148          ЩИТОВНИК МУЖСКОЙ   \n",
       "149      ЭВКАЛИПТ ПРУТОВИДНЫЙ   \n",
       "150      ЭВКОММИЯ ВЯЗОЛИСТНАЯ   \n",
       "151           ЭРВА ШЕРСТИСТАЯ   \n",
       "\n",
       "                                             Описание.  \\\n",
       "0    Летнезеленый травянистый многолетник.  Корнева...   \n",
       "1    Травянистый многолетник высотой  50-150 (250) ...   \n",
       "2    Многолетнее травянистое однодольное  растение ...   \n",
       "3    Травянистый многолетник высотой  50-150 (250) ...   \n",
       "4    Суккулентный кустарник высотой до  5 м. В Росс...   \n",
       "..                                                 ...   \n",
       "147  Многолетнее травянистое растение вы - сотой 60...   \n",
       "148  тник мужской) Dryopteris filix-mas (L.) Schott...   \n",
       "149  tus  viminalis  Labill . Семейство миртовые – ...   \n",
       "150  Небольшое листопадное двудомное  (очень редко ...   \n",
       "151  Многолетнее травянистое растение вы - сотой до...   \n",
       "\n",
       "                                                Ареал.  \\\n",
       "0    Астрагал шерстистоцветковый – причерномор - ск...   \n",
       "1    Аденостилес ромболистный – эндемик  Кавказа. С...   \n",
       "2    Ареал вида дизъюнктивный, состоит из  трех фра...   \n",
       "3    Аденостилес ромболистный – эндемик  Кавказа. С...   \n",
       "4    Родина алоэ — Южная Африка и некото -рые остро...   \n",
       "..                                                 ...   \n",
       "147  ель густой) Rumex confertus Willd . Семейство ...   \n",
       "148  оротник мужской) Dryopteris filix-mas (L.) Sch...   \n",
       "149  Юго-Восточная и Южная Австралия и Та - смания....   \n",
       "150  Распространена в горных районах Запад - ного и...   \n",
       "151  Эрва шерстистая родом из Южной Азии,  распрост...   \n",
       "\n",
       "                                             Экология.  \\\n",
       "0    Степной вид, обитающий на целинных  участках. ...   \n",
       "1    Аденостилес растет в горно-лес - ном (преимуще...   \n",
       "2    Аир обыкновенный — прибрежно-во - дное растени...   \n",
       "3    Аденостилес растет в горно-лес - ном (преимуще...   \n",
       "4    ник) Alоe arborescens  Mill. Семейство ксантор...   \n",
       "..                                                 ...   \n",
       "147  R. confertus — мезофильное растение.  Распрост...   \n",
       "148  Шитовник мужской — мезофильное,  лесное растен...   \n",
       "149  Отличается довольно высокой морозо - стойкость...   \n",
       "150  Растение предпочитает увлажненные  почвы, но и...   \n",
       "151  Широко распространенный сорняк  в засушливых ч...   \n",
       "\n",
       "                                              Ресурсы.  \\\n",
       "0    Растение считается реликтовым. Его местопроизр...   \n",
       "1    Промысловые массивы аденостилеса  приурочены к...   \n",
       "2    До 90-х годов XX в. корневища аира заготовляли...   \n",
       "3    Промысловые массивы аденостилеса  приурочены к...   \n",
       "4    В России нет дикорастущего алоэ. В нашей стран...   \n",
       "..                                                 ...   \n",
       "147  Промысловые запасы выявлены на Алтае (в пойме ...   \n",
       "148  Ежегодная потребность в сырье щитовника мужско...   \n",
       "149  Заготовка даже нескольких центнеров  листа в Р...   \n",
       "150  Потребность в сырье обеспечивалась за  счет по...   \n",
       "151  Поставки  сырья эрвы шерстистой в Россию осуще...   \n",
       "\n",
       "                                    Химический состав.  \\\n",
       "0    В траве содержатся флавоноиды,  сумма которых ...   \n",
       "1    ифиллиновый, крестовник ромболистный) Adenosty...   \n",
       "2    В корневищах содержится  эфирное масло (до 6 %...   \n",
       "3    В корневищах содержится  эфирное масло (до 6 %...   \n",
       "4    arborescens  Mill. Семейство ксанторреевые— Xa...   \n",
       "..                                                 ...   \n",
       "147  Rumex confertus Willd . Семейство гречишные — ...   \n",
       "148  кой) Dryopteris filix-mas (L.) Schott Семейств...   \n",
       "149  В листьях эвкалипта содержится эфирное масло (...   \n",
       "150  В коре содержится гуттаперча (около 8 %); стер...   \n",
       "151  В надземной части (траве)  содержатся флавонои...   \n",
       "\n",
       "                                                Сырье.  \\\n",
       "0    Качество сырья нормировалось Госу - дарственно...   \n",
       "1    стовник платифиллиновый, крестовник ромболистн...   \n",
       "2    Качество сырья нормируется Государ - ственной ...   \n",
       "3    Качество сырья нормируется Государ - ственной ...   \n",
       "4    летник) Alоe arborescens  Mill. Семейство ксан...   \n",
       "..                                                 ...   \n",
       "147  ель густой) Rumex confertus Willd . Семейство ...   \n",
       "148  оротник мужской) Dryopteris filix-mas (L.) Sch...   \n",
       "149  lyptus  viminalis  Labill . Семейство миртовые...   \n",
       "150  тайское гуттаперчевое дерево) Eucommia  ulmoid...   \n",
       "151  Качество сырья нормируется Частной фар - макоп...   \n",
       "\n",
       "                           Фармокологические свойства.  \\\n",
       "0    l. Семейство бобовые (мотыльковые) – Fabaceae ...   \n",
       "1    ый, крестовник ромболистный) Adenostyles  rhom...   \n",
       "2    тво ароидные — Araceae Описание.  Многолетнее ...   \n",
       "3    .................................................   \n",
       "4    ens  Mill. Семейство ксанторреевые— Xanthorrho...   \n",
       "..                                                 ...   \n",
       "147  fertus Willd . Семейство гречишные — Polygonac...   \n",
       "148  pteris filix-mas (L.) Schott Семейство щитовни...   \n",
       "149  bill . Семейство миртовые – Myrtaceae Описание...   \n",
       "150  дерево) Eucommia  ulmoides  Oliv. Семейство эв...   \n",
       "151  (L.) Juss. Семейство амарантовые – Amaranthace...   \n",
       "\n",
       "                                Применение в медицине.  \\\n",
       "0    Траву багульника в виде  настоя используют при...   \n",
       "1    линовый, крестовник ромболистный) Adenostyles ...   \n",
       "2    Препараты из корневищ  аира применяются для ле...   \n",
       "3    Препараты из корневищ  аира применяются для ле...   \n",
       "4    Из свежих листьев алоэ  выпускают препараты: а...   \n",
       "..                                                 ...   \n",
       "147  Препараты конского ща - веля применяют для леч...   \n",
       "148  Способность препара - тов щитовника мужского (...   \n",
       "149  Препараты используют  в качестве антисептическ...   \n",
       "150  В китайской и тибетской  медицине лечебные сво...   \n",
       "151  nаta (L.) Juss. Семейство амарантовые – Amaran...   \n",
       "\n",
       "                                   Период сбора урожая  \\\n",
       "0                       в сухую погоду в фазу цветения   \n",
       "1                                       кратковременно   \n",
       "2                           летом, с июня  по сентябрь   \n",
       "3                                             ежегодно   \n",
       "4              хорошо развитые нижние и средние листья   \n",
       "..                                                 ...   \n",
       "147                сенокосных угодий от этого растения   \n",
       "148                                       сушат в тени   \n",
       "149                             в осенне-зимний период   \n",
       "150  после 4 лет выращивания и ухода на протяжении ...   \n",
       "151                                 с середины октября   \n",
       "\n",
       "                                           Потребность  \\\n",
       "0                  около 20 % от массы свежесобранного   \n",
       "1                         имеют тенденцию к сокращению   \n",
       "2                                      100-120 т в год   \n",
       "3                      не более 30 % общего их  запаса   \n",
       "4                     повышенной потребностью в железе   \n",
       "..                                                 ...   \n",
       "147                                    около 3 тыс. т.   \n",
       "148                                              450 т   \n",
       "149                                           медицины   \n",
       "150  обеспечивалась за  счет порослевокустового кул...   \n",
       "151  лекарственное сырьё досушивают до  стандартной...   \n",
       "\n",
       "                                         Период посева  \\\n",
       "0                                    в начале цветения   \n",
       "1    при язвенной болезни желудка и двенадцатиперст...   \n",
       "2                           летом, с июня  по сентябрь   \n",
       "3                      подвяливают на открытом воздухе   \n",
       "4                                                зимой   \n",
       "..                                                 ...   \n",
       "147                                             осенью   \n",
       "148                                             осенью   \n",
       "149                             в осенне-зимний период   \n",
       "150  после 4 лет выращивания и ухода на протяжении ...   \n",
       "151                       при активном  вентилировании   \n",
       "\n",
       "         Содержание в мед препаратах  \\\n",
       "0     луб и листья бархата амурского   \n",
       "1    как в траве, так и в корневищах   \n",
       "2                    борнеол, камфен   \n",
       "3                    борнеол, камфен   \n",
       "4                        антрахиноны   \n",
       "..                               ...   \n",
       "147                  стероиды; смолы   \n",
       "148     корневища щитовника мужского   \n",
       "149              фитопрепараты вилар   \n",
       "150                         стероиды   \n",
       "151           в минорных количествах   \n",
       "\n",
       "                                 Основной компонент  \n",
       "0                                           бетулин  \n",
       "1                                          алкалоид  \n",
       "2                                           крахмал  \n",
       "3                                           крахмал  \n",
       "4                                             сырьё  \n",
       "..                                              ...  \n",
       "147                                          щавель  \n",
       "148  компонентный состав и биологическая активность  \n",
       "149                                         психозы  \n",
       "150                                      гуттаперча  \n",
       "151  компонентный состав и биологическая активность  \n",
       "\n",
       "[152 rows x 14 columns]"
      ]
     },
     "execution_count": 79,
     "metadata": {},
     "output_type": "execute_result"
    }
   ],
   "source": [
    "df"
   ]
  },
  {
   "cell_type": "code",
   "execution_count": null,
   "metadata": {
    "id": "wGVPtlRsEkSZ"
   },
   "outputs": [],
   "source": [
    "df = pd.read_csv('table.csv', index_col=0)"
   ]
  },
  {
   "cell_type": "code",
   "execution_count": null,
   "metadata": {
    "colab": {
     "base_uri": "https://localhost:8080/",
     "height": 1000
    },
    "executionInfo": {
     "elapsed": 24,
     "status": "ok",
     "timestamp": 1684611719201,
     "user": {
      "displayName": "Mario",
      "userId": "03141800039134927188"
     },
     "user_tz": -180
    },
    "id": "WtkeS9aJFIjk",
    "outputId": "e6e7aa01-70d7-4a48-d344-2dc025ab267b"
   },
   "outputs": [
    {
     "data": {
      "text/html": [
       "\n",
       "  <div id=\"df-b4563a8b-5ea3-4c5e-a29f-4cb064794531\">\n",
       "    <div class=\"colab-df-container\">\n",
       "      <div>\n",
       "<style scoped>\n",
       "    .dataframe tbody tr th:only-of-type {\n",
       "        vertical-align: middle;\n",
       "    }\n",
       "\n",
       "    .dataframe tbody tr th {\n",
       "        vertical-align: top;\n",
       "    }\n",
       "\n",
       "    .dataframe thead th {\n",
       "        text-align: right;\n",
       "    }\n",
       "</style>\n",
       "<table border=\"1\" class=\"dataframe\">\n",
       "  <thead>\n",
       "    <tr style=\"text-align: right;\">\n",
       "      <th></th>\n",
       "      <th>Название.</th>\n",
       "      <th>Описание.</th>\n",
       "      <th>Ареал.</th>\n",
       "      <th>Экология.</th>\n",
       "      <th>Ресурсы.</th>\n",
       "      <th>Химический состав.</th>\n",
       "      <th>Сырье.</th>\n",
       "      <th>Фармокологические свойства.</th>\n",
       "      <th>Применение в медицине.</th>\n",
       "      <th>Период сбора урожая</th>\n",
       "      <th>Потребность</th>\n",
       "      <th>Период посева</th>\n",
       "      <th>Содержание в мед препаратах</th>\n",
       "      <th>Основной компонент</th>\n",
       "    </tr>\n",
       "  </thead>\n",
       "  <tbody>\n",
       "    <tr>\n",
       "      <th>0</th>\n",
       "      <td>АГАЛ ШЕРСТИСТОЦВЕТКОВЫЙ</td>\n",
       "      <td>Летнезеленый травянистый многолетник.  Корнева...</td>\n",
       "      <td>Астрагал шерстистоцветковый – причерномор - ск...</td>\n",
       "      <td>Степной вид, обитающий на целинных  участках. ...</td>\n",
       "      <td>Растение считается реликтовым. Его местопроизр...</td>\n",
       "      <td>В траве содержатся флавоноиды,  сумма которых ...</td>\n",
       "      <td>Качество сырья нормировалось Госу - дарственно...</td>\n",
       "      <td>l. Семейство бобовые (мотыльковые) – Fabaceae ...</td>\n",
       "      <td>Траву багульника в виде  настоя используют при...</td>\n",
       "      <td>в сухую погоду в фазу цветения</td>\n",
       "      <td>около 20 % от массы свежесобранного</td>\n",
       "      <td>в начале цветения</td>\n",
       "      <td>луб и листья бархата амурского</td>\n",
       "      <td>бетулин</td>\n",
       "    </tr>\n",
       "    <tr>\n",
       "      <th>1</th>\n",
       "      <td>АДЕНОСТИЛЕС РОМБОЛИСТНЫЙ</td>\n",
       "      <td>Травянистый многолетник высотой  50-150 (250) ...</td>\n",
       "      <td>Аденостилес ромболистный – эндемик  Кавказа. С...</td>\n",
       "      <td>Аденостилес растет в горно-лес - ном (преимуще...</td>\n",
       "      <td>Промысловые массивы аденостилеса  приурочены к...</td>\n",
       "      <td>ифиллиновый, крестовник ромболистный) Adenosty...</td>\n",
       "      <td>стовник платифиллиновый, крестовник ромболистн...</td>\n",
       "      <td>ый, крестовник ромболистный) Adenostyles  rhom...</td>\n",
       "      <td>линовый, крестовник ромболистный) Adenostyles ...</td>\n",
       "      <td>кратковременно</td>\n",
       "      <td>имеют тенденцию к сокращению</td>\n",
       "      <td>при язвенной болезни желудка и двенадцатиперст...</td>\n",
       "      <td>как в траве, так и в корневищах</td>\n",
       "      <td>алкалоид</td>\n",
       "    </tr>\n",
       "    <tr>\n",
       "      <th>2</th>\n",
       "      <td>АИР ОБЫКНОВЕННЫЙ</td>\n",
       "      <td>Многолетнее травянистое однодольное  растение ...</td>\n",
       "      <td>Ареал вида дизъюнктивный, состоит из  трех фра...</td>\n",
       "      <td>Аир обыкновенный — прибрежно-во - дное растени...</td>\n",
       "      <td>До 90-х годов XX в. корневища аира заготовляли...</td>\n",
       "      <td>В корневищах содержится  эфирное масло (до 6 %...</td>\n",
       "      <td>Качество сырья нормируется Государ - ственной ...</td>\n",
       "      <td>тво ароидные — Araceae Описание.  Многолетнее ...</td>\n",
       "      <td>Препараты из корневищ  аира применяются для ле...</td>\n",
       "      <td>летом, с июня  по сентябрь</td>\n",
       "      <td>100-120 т в год</td>\n",
       "      <td>летом, с июня  по сентябрь</td>\n",
       "      <td>борнеол, камфен</td>\n",
       "      <td>крахмал</td>\n",
       "    </tr>\n",
       "    <tr>\n",
       "      <th>3</th>\n",
       "      <td>АЛИЯ ВЫСОКАЯ</td>\n",
       "      <td>Травянистый многолетник высотой  50-150 (250) ...</td>\n",
       "      <td>Аденостилес ромболистный – эндемик  Кавказа. С...</td>\n",
       "      <td>Аденостилес растет в горно-лес - ном (преимуще...</td>\n",
       "      <td>Промысловые массивы аденостилеса  приурочены к...</td>\n",
       "      <td>В корневищах содержится  эфирное масло (до 6 %...</td>\n",
       "      <td>Качество сырья нормируется Государ - ственной ...</td>\n",
       "      <td>.................................................</td>\n",
       "      <td>Препараты из корневищ  аира применяются для ле...</td>\n",
       "      <td>ежегодно</td>\n",
       "      <td>не более 30 % общего их  запаса</td>\n",
       "      <td>подвяливают на открытом воздухе</td>\n",
       "      <td>борнеол, камфен</td>\n",
       "      <td>крахмал</td>\n",
       "    </tr>\n",
       "    <tr>\n",
       "      <th>4</th>\n",
       "      <td>АЛОЭ ДРЕВОВИДНОЕ</td>\n",
       "      <td>Суккулентный кустарник высотой до  5 м. В Росс...</td>\n",
       "      <td>Родина алоэ — Южная Африка и некото -рые остро...</td>\n",
       "      <td>ник) Alоe arborescens  Mill. Семейство ксантор...</td>\n",
       "      <td>В России нет дикорастущего алоэ. В нашей стран...</td>\n",
       "      <td>arborescens  Mill. Семейство ксанторреевые— Xa...</td>\n",
       "      <td>летник) Alоe arborescens  Mill. Семейство ксан...</td>\n",
       "      <td>ens  Mill. Семейство ксанторреевые— Xanthorrho...</td>\n",
       "      <td>Из свежих листьев алоэ  выпускают препараты: а...</td>\n",
       "      <td>хорошо развитые нижние и средние листья</td>\n",
       "      <td>повышенной потребностью в железе</td>\n",
       "      <td>зимой</td>\n",
       "      <td>антрахиноны</td>\n",
       "      <td>сырьё</td>\n",
       "    </tr>\n",
       "    <tr>\n",
       "      <th>...</th>\n",
       "      <td>...</td>\n",
       "      <td>...</td>\n",
       "      <td>...</td>\n",
       "      <td>...</td>\n",
       "      <td>...</td>\n",
       "      <td>...</td>\n",
       "      <td>...</td>\n",
       "      <td>...</td>\n",
       "      <td>...</td>\n",
       "      <td>...</td>\n",
       "      <td>...</td>\n",
       "      <td>...</td>\n",
       "      <td>...</td>\n",
       "      <td>...</td>\n",
       "    </tr>\n",
       "    <tr>\n",
       "      <th>147</th>\n",
       "      <td>ЩАВЕЛЬ КОНСКИЙ</td>\n",
       "      <td>Многолетнее травянистое растение вы - сотой 60...</td>\n",
       "      <td>ель густой) Rumex confertus Willd . Семейство ...</td>\n",
       "      <td>R. confertus — мезофильное растение.  Распрост...</td>\n",
       "      <td>Промысловые запасы выявлены на Алтае (в пойме ...</td>\n",
       "      <td>Rumex confertus Willd . Семейство гречишные — ...</td>\n",
       "      <td>ель густой) Rumex confertus Willd . Семейство ...</td>\n",
       "      <td>fertus Willd . Семейство гречишные — Polygonac...</td>\n",
       "      <td>Препараты конского ща - веля применяют для леч...</td>\n",
       "      <td>сенокосных угодий от этого растения</td>\n",
       "      <td>около 3 тыс. т.</td>\n",
       "      <td>осенью</td>\n",
       "      <td>стероиды; смолы</td>\n",
       "      <td>щавель</td>\n",
       "    </tr>\n",
       "    <tr>\n",
       "      <th>148</th>\n",
       "      <td>ЩИТОВНИК МУЖСКОЙ</td>\n",
       "      <td>тник мужской) Dryopteris filix-mas (L.) Schott...</td>\n",
       "      <td>оротник мужской) Dryopteris filix-mas (L.) Sch...</td>\n",
       "      <td>Шитовник мужской — мезофильное,  лесное растен...</td>\n",
       "      <td>Ежегодная потребность в сырье щитовника мужско...</td>\n",
       "      <td>кой) Dryopteris filix-mas (L.) Schott Семейств...</td>\n",
       "      <td>оротник мужской) Dryopteris filix-mas (L.) Sch...</td>\n",
       "      <td>pteris filix-mas (L.) Schott Семейство щитовни...</td>\n",
       "      <td>Способность препара - тов щитовника мужского (...</td>\n",
       "      <td>сушат в тени</td>\n",
       "      <td>450 т</td>\n",
       "      <td>осенью</td>\n",
       "      <td>корневища щитовника мужского</td>\n",
       "      <td>компонентный состав и биологическая активность</td>\n",
       "    </tr>\n",
       "    <tr>\n",
       "      <th>149</th>\n",
       "      <td>ЭВКАЛИПТ ПРУТОВИДНЫЙ</td>\n",
       "      <td>tus  viminalis  Labill . Семейство миртовые – ...</td>\n",
       "      <td>Юго-Восточная и Южная Австралия и Та - смания....</td>\n",
       "      <td>Отличается довольно высокой морозо - стойкость...</td>\n",
       "      <td>Заготовка даже нескольких центнеров  листа в Р...</td>\n",
       "      <td>В листьях эвкалипта содержится эфирное масло (...</td>\n",
       "      <td>lyptus  viminalis  Labill . Семейство миртовые...</td>\n",
       "      <td>bill . Семейство миртовые – Myrtaceae Описание...</td>\n",
       "      <td>Препараты используют  в качестве антисептическ...</td>\n",
       "      <td>в осенне-зимний период</td>\n",
       "      <td>медицины</td>\n",
       "      <td>в осенне-зимний период</td>\n",
       "      <td>фитопрепараты вилар</td>\n",
       "      <td>психозы</td>\n",
       "    </tr>\n",
       "    <tr>\n",
       "      <th>150</th>\n",
       "      <td>ЭВКОММИЯ ВЯЗОЛИСТНАЯ</td>\n",
       "      <td>Небольшое листопадное двудомное  (очень редко ...</td>\n",
       "      <td>Распространена в горных районах Запад - ного и...</td>\n",
       "      <td>Растение предпочитает увлажненные  почвы, но и...</td>\n",
       "      <td>Потребность в сырье обеспечивалась за  счет по...</td>\n",
       "      <td>В коре содержится гуттаперча (около 8 %); стер...</td>\n",
       "      <td>тайское гуттаперчевое дерево) Eucommia  ulmoid...</td>\n",
       "      <td>дерево) Eucommia  ulmoides  Oliv. Семейство эв...</td>\n",
       "      <td>В китайской и тибетской  медицине лечебные сво...</td>\n",
       "      <td>после 4 лет выращивания и ухода на протяжении ...</td>\n",
       "      <td>обеспечивалась за  счет порослевокустового кул...</td>\n",
       "      <td>после 4 лет выращивания и ухода на протяжении ...</td>\n",
       "      <td>стероиды</td>\n",
       "      <td>гуттаперча</td>\n",
       "    </tr>\n",
       "    <tr>\n",
       "      <th>151</th>\n",
       "      <td>ЭРВА ШЕРСТИСТАЯ</td>\n",
       "      <td>Многолетнее травянистое растение вы - сотой до...</td>\n",
       "      <td>Эрва шерстистая родом из Южной Азии,  распрост...</td>\n",
       "      <td>Широко распространенный сорняк  в засушливых ч...</td>\n",
       "      <td>Поставки  сырья эрвы шерстистой в Россию осуще...</td>\n",
       "      <td>В надземной части (траве)  содержатся флавонои...</td>\n",
       "      <td>Качество сырья нормируется Частной фар - макоп...</td>\n",
       "      <td>(L.) Juss. Семейство амарантовые – Amaranthace...</td>\n",
       "      <td>nаta (L.) Juss. Семейство амарантовые – Amaran...</td>\n",
       "      <td>с середины октября</td>\n",
       "      <td>лекарственное сырьё досушивают до  стандартной...</td>\n",
       "      <td>при активном  вентилировании</td>\n",
       "      <td>в минорных количествах</td>\n",
       "      <td>компонентный состав и биологическая активность</td>\n",
       "    </tr>\n",
       "  </tbody>\n",
       "</table>\n",
       "<p>152 rows × 14 columns</p>\n",
       "</div>\n",
       "      <button class=\"colab-df-convert\" onclick=\"convertToInteractive('df-b4563a8b-5ea3-4c5e-a29f-4cb064794531')\"\n",
       "              title=\"Convert this dataframe to an interactive table.\"\n",
       "              style=\"display:none;\">\n",
       "        \n",
       "  <svg xmlns=\"http://www.w3.org/2000/svg\" height=\"24px\"viewBox=\"0 0 24 24\"\n",
       "       width=\"24px\">\n",
       "    <path d=\"M0 0h24v24H0V0z\" fill=\"none\"/>\n",
       "    <path d=\"M18.56 5.44l.94 2.06.94-2.06 2.06-.94-2.06-.94-.94-2.06-.94 2.06-2.06.94zm-11 1L8.5 8.5l.94-2.06 2.06-.94-2.06-.94L8.5 2.5l-.94 2.06-2.06.94zm10 10l.94 2.06.94-2.06 2.06-.94-2.06-.94-.94-2.06-.94 2.06-2.06.94z\"/><path d=\"M17.41 7.96l-1.37-1.37c-.4-.4-.92-.59-1.43-.59-.52 0-1.04.2-1.43.59L10.3 9.45l-7.72 7.72c-.78.78-.78 2.05 0 2.83L4 21.41c.39.39.9.59 1.41.59.51 0 1.02-.2 1.41-.59l7.78-7.78 2.81-2.81c.8-.78.8-2.07 0-2.86zM5.41 20L4 18.59l7.72-7.72 1.47 1.35L5.41 20z\"/>\n",
       "  </svg>\n",
       "      </button>\n",
       "      \n",
       "  <style>\n",
       "    .colab-df-container {\n",
       "      display:flex;\n",
       "      flex-wrap:wrap;\n",
       "      gap: 12px;\n",
       "    }\n",
       "\n",
       "    .colab-df-convert {\n",
       "      background-color: #E8F0FE;\n",
       "      border: none;\n",
       "      border-radius: 50%;\n",
       "      cursor: pointer;\n",
       "      display: none;\n",
       "      fill: #1967D2;\n",
       "      height: 32px;\n",
       "      padding: 0 0 0 0;\n",
       "      width: 32px;\n",
       "    }\n",
       "\n",
       "    .colab-df-convert:hover {\n",
       "      background-color: #E2EBFA;\n",
       "      box-shadow: 0px 1px 2px rgba(60, 64, 67, 0.3), 0px 1px 3px 1px rgba(60, 64, 67, 0.15);\n",
       "      fill: #174EA6;\n",
       "    }\n",
       "\n",
       "    [theme=dark] .colab-df-convert {\n",
       "      background-color: #3B4455;\n",
       "      fill: #D2E3FC;\n",
       "    }\n",
       "\n",
       "    [theme=dark] .colab-df-convert:hover {\n",
       "      background-color: #434B5C;\n",
       "      box-shadow: 0px 1px 3px 1px rgba(0, 0, 0, 0.15);\n",
       "      filter: drop-shadow(0px 1px 2px rgba(0, 0, 0, 0.3));\n",
       "      fill: #FFFFFF;\n",
       "    }\n",
       "  </style>\n",
       "\n",
       "      <script>\n",
       "        const buttonEl =\n",
       "          document.querySelector('#df-b4563a8b-5ea3-4c5e-a29f-4cb064794531 button.colab-df-convert');\n",
       "        buttonEl.style.display =\n",
       "          google.colab.kernel.accessAllowed ? 'block' : 'none';\n",
       "\n",
       "        async function convertToInteractive(key) {\n",
       "          const element = document.querySelector('#df-b4563a8b-5ea3-4c5e-a29f-4cb064794531');\n",
       "          const dataTable =\n",
       "            await google.colab.kernel.invokeFunction('convertToInteractive',\n",
       "                                                     [key], {});\n",
       "          if (!dataTable) return;\n",
       "\n",
       "          const docLinkHtml = 'Like what you see? Visit the ' +\n",
       "            '<a target=\"_blank\" href=https://colab.research.google.com/notebooks/data_table.ipynb>data table notebook</a>'\n",
       "            + ' to learn more about interactive tables.';\n",
       "          element.innerHTML = '';\n",
       "          dataTable['output_type'] = 'display_data';\n",
       "          await google.colab.output.renderOutput(dataTable, element);\n",
       "          const docLink = document.createElement('div');\n",
       "          docLink.innerHTML = docLinkHtml;\n",
       "          element.appendChild(docLink);\n",
       "        }\n",
       "      </script>\n",
       "    </div>\n",
       "  </div>\n",
       "  "
      ],
      "text/plain": [
       "                    Название.  \\\n",
       "0     АГАЛ ШЕРСТИСТОЦВЕТКОВЫЙ   \n",
       "1    АДЕНОСТИЛЕС РОМБОЛИСТНЫЙ   \n",
       "2            АИР ОБЫКНОВЕННЫЙ   \n",
       "3                АЛИЯ ВЫСОКАЯ   \n",
       "4            АЛОЭ ДРЕВОВИДНОЕ   \n",
       "..                        ...   \n",
       "147            ЩАВЕЛЬ КОНСКИЙ   \n",
       "148          ЩИТОВНИК МУЖСКОЙ   \n",
       "149      ЭВКАЛИПТ ПРУТОВИДНЫЙ   \n",
       "150      ЭВКОММИЯ ВЯЗОЛИСТНАЯ   \n",
       "151           ЭРВА ШЕРСТИСТАЯ   \n",
       "\n",
       "                                             Описание.  \\\n",
       "0    Летнезеленый травянистый многолетник.  Корнева...   \n",
       "1    Травянистый многолетник высотой  50-150 (250) ...   \n",
       "2    Многолетнее травянистое однодольное  растение ...   \n",
       "3    Травянистый многолетник высотой  50-150 (250) ...   \n",
       "4    Суккулентный кустарник высотой до  5 м. В Росс...   \n",
       "..                                                 ...   \n",
       "147  Многолетнее травянистое растение вы - сотой 60...   \n",
       "148  тник мужской) Dryopteris filix-mas (L.) Schott...   \n",
       "149  tus  viminalis  Labill . Семейство миртовые – ...   \n",
       "150  Небольшое листопадное двудомное  (очень редко ...   \n",
       "151  Многолетнее травянистое растение вы - сотой до...   \n",
       "\n",
       "                                                Ареал.  \\\n",
       "0    Астрагал шерстистоцветковый – причерномор - ск...   \n",
       "1    Аденостилес ромболистный – эндемик  Кавказа. С...   \n",
       "2    Ареал вида дизъюнктивный, состоит из  трех фра...   \n",
       "3    Аденостилес ромболистный – эндемик  Кавказа. С...   \n",
       "4    Родина алоэ — Южная Африка и некото -рые остро...   \n",
       "..                                                 ...   \n",
       "147  ель густой) Rumex confertus Willd . Семейство ...   \n",
       "148  оротник мужской) Dryopteris filix-mas (L.) Sch...   \n",
       "149  Юго-Восточная и Южная Австралия и Та - смания....   \n",
       "150  Распространена в горных районах Запад - ного и...   \n",
       "151  Эрва шерстистая родом из Южной Азии,  распрост...   \n",
       "\n",
       "                                             Экология.  \\\n",
       "0    Степной вид, обитающий на целинных  участках. ...   \n",
       "1    Аденостилес растет в горно-лес - ном (преимуще...   \n",
       "2    Аир обыкновенный — прибрежно-во - дное растени...   \n",
       "3    Аденостилес растет в горно-лес - ном (преимуще...   \n",
       "4    ник) Alоe arborescens  Mill. Семейство ксантор...   \n",
       "..                                                 ...   \n",
       "147  R. confertus — мезофильное растение.  Распрост...   \n",
       "148  Шитовник мужской — мезофильное,  лесное растен...   \n",
       "149  Отличается довольно высокой морозо - стойкость...   \n",
       "150  Растение предпочитает увлажненные  почвы, но и...   \n",
       "151  Широко распространенный сорняк  в засушливых ч...   \n",
       "\n",
       "                                              Ресурсы.  \\\n",
       "0    Растение считается реликтовым. Его местопроизр...   \n",
       "1    Промысловые массивы аденостилеса  приурочены к...   \n",
       "2    До 90-х годов XX в. корневища аира заготовляли...   \n",
       "3    Промысловые массивы аденостилеса  приурочены к...   \n",
       "4    В России нет дикорастущего алоэ. В нашей стран...   \n",
       "..                                                 ...   \n",
       "147  Промысловые запасы выявлены на Алтае (в пойме ...   \n",
       "148  Ежегодная потребность в сырье щитовника мужско...   \n",
       "149  Заготовка даже нескольких центнеров  листа в Р...   \n",
       "150  Потребность в сырье обеспечивалась за  счет по...   \n",
       "151  Поставки  сырья эрвы шерстистой в Россию осуще...   \n",
       "\n",
       "                                    Химический состав.  \\\n",
       "0    В траве содержатся флавоноиды,  сумма которых ...   \n",
       "1    ифиллиновый, крестовник ромболистный) Adenosty...   \n",
       "2    В корневищах содержится  эфирное масло (до 6 %...   \n",
       "3    В корневищах содержится  эфирное масло (до 6 %...   \n",
       "4    arborescens  Mill. Семейство ксанторреевые— Xa...   \n",
       "..                                                 ...   \n",
       "147  Rumex confertus Willd . Семейство гречишные — ...   \n",
       "148  кой) Dryopteris filix-mas (L.) Schott Семейств...   \n",
       "149  В листьях эвкалипта содержится эфирное масло (...   \n",
       "150  В коре содержится гуттаперча (около 8 %); стер...   \n",
       "151  В надземной части (траве)  содержатся флавонои...   \n",
       "\n",
       "                                                Сырье.  \\\n",
       "0    Качество сырья нормировалось Госу - дарственно...   \n",
       "1    стовник платифиллиновый, крестовник ромболистн...   \n",
       "2    Качество сырья нормируется Государ - ственной ...   \n",
       "3    Качество сырья нормируется Государ - ственной ...   \n",
       "4    летник) Alоe arborescens  Mill. Семейство ксан...   \n",
       "..                                                 ...   \n",
       "147  ель густой) Rumex confertus Willd . Семейство ...   \n",
       "148  оротник мужской) Dryopteris filix-mas (L.) Sch...   \n",
       "149  lyptus  viminalis  Labill . Семейство миртовые...   \n",
       "150  тайское гуттаперчевое дерево) Eucommia  ulmoid...   \n",
       "151  Качество сырья нормируется Частной фар - макоп...   \n",
       "\n",
       "                           Фармокологические свойства.  \\\n",
       "0    l. Семейство бобовые (мотыльковые) – Fabaceae ...   \n",
       "1    ый, крестовник ромболистный) Adenostyles  rhom...   \n",
       "2    тво ароидные — Araceae Описание.  Многолетнее ...   \n",
       "3    .................................................   \n",
       "4    ens  Mill. Семейство ксанторреевые— Xanthorrho...   \n",
       "..                                                 ...   \n",
       "147  fertus Willd . Семейство гречишные — Polygonac...   \n",
       "148  pteris filix-mas (L.) Schott Семейство щитовни...   \n",
       "149  bill . Семейство миртовые – Myrtaceae Описание...   \n",
       "150  дерево) Eucommia  ulmoides  Oliv. Семейство эв...   \n",
       "151  (L.) Juss. Семейство амарантовые – Amaranthace...   \n",
       "\n",
       "                                Применение в медицине.  \\\n",
       "0    Траву багульника в виде  настоя используют при...   \n",
       "1    линовый, крестовник ромболистный) Adenostyles ...   \n",
       "2    Препараты из корневищ  аира применяются для ле...   \n",
       "3    Препараты из корневищ  аира применяются для ле...   \n",
       "4    Из свежих листьев алоэ  выпускают препараты: а...   \n",
       "..                                                 ...   \n",
       "147  Препараты конского ща - веля применяют для леч...   \n",
       "148  Способность препара - тов щитовника мужского (...   \n",
       "149  Препараты используют  в качестве антисептическ...   \n",
       "150  В китайской и тибетской  медицине лечебные сво...   \n",
       "151  nаta (L.) Juss. Семейство амарантовые – Amaran...   \n",
       "\n",
       "                                   Период сбора урожая  \\\n",
       "0                       в сухую погоду в фазу цветения   \n",
       "1                                       кратковременно   \n",
       "2                           летом, с июня  по сентябрь   \n",
       "3                                             ежегодно   \n",
       "4              хорошо развитые нижние и средние листья   \n",
       "..                                                 ...   \n",
       "147                сенокосных угодий от этого растения   \n",
       "148                                       сушат в тени   \n",
       "149                             в осенне-зимний период   \n",
       "150  после 4 лет выращивания и ухода на протяжении ...   \n",
       "151                                 с середины октября   \n",
       "\n",
       "                                           Потребность  \\\n",
       "0                  около 20 % от массы свежесобранного   \n",
       "1                         имеют тенденцию к сокращению   \n",
       "2                                      100-120 т в год   \n",
       "3                      не более 30 % общего их  запаса   \n",
       "4                     повышенной потребностью в железе   \n",
       "..                                                 ...   \n",
       "147                                    около 3 тыс. т.   \n",
       "148                                              450 т   \n",
       "149                                           медицины   \n",
       "150  обеспечивалась за  счет порослевокустового кул...   \n",
       "151  лекарственное сырьё досушивают до  стандартной...   \n",
       "\n",
       "                                         Период посева  \\\n",
       "0                                    в начале цветения   \n",
       "1    при язвенной болезни желудка и двенадцатиперст...   \n",
       "2                           летом, с июня  по сентябрь   \n",
       "3                      подвяливают на открытом воздухе   \n",
       "4                                                зимой   \n",
       "..                                                 ...   \n",
       "147                                             осенью   \n",
       "148                                             осенью   \n",
       "149                             в осенне-зимний период   \n",
       "150  после 4 лет выращивания и ухода на протяжении ...   \n",
       "151                       при активном  вентилировании   \n",
       "\n",
       "         Содержание в мед препаратах  \\\n",
       "0     луб и листья бархата амурского   \n",
       "1    как в траве, так и в корневищах   \n",
       "2                    борнеол, камфен   \n",
       "3                    борнеол, камфен   \n",
       "4                        антрахиноны   \n",
       "..                               ...   \n",
       "147                  стероиды; смолы   \n",
       "148     корневища щитовника мужского   \n",
       "149              фитопрепараты вилар   \n",
       "150                         стероиды   \n",
       "151           в минорных количествах   \n",
       "\n",
       "                                 Основной компонент  \n",
       "0                                           бетулин  \n",
       "1                                          алкалоид  \n",
       "2                                           крахмал  \n",
       "3                                           крахмал  \n",
       "4                                             сырьё  \n",
       "..                                              ...  \n",
       "147                                          щавель  \n",
       "148  компонентный состав и биологическая активность  \n",
       "149                                         психозы  \n",
       "150                                      гуттаперча  \n",
       "151  компонентный состав и биологическая активность  \n",
       "\n",
       "[152 rows x 14 columns]"
      ]
     },
     "execution_count": 81,
     "metadata": {},
     "output_type": "execute_result"
    }
   ],
   "source": [
    "df"
   ]
  },
  {
   "cell_type": "code",
   "execution_count": null,
   "metadata": {
    "id": "oGiOqmGVG2II"
   },
   "outputs": [],
   "source": [
    "def chemistry_compose(text):\n",
    "  matches = re.findall(r'\\b\\w*(?:ин|ид)', text)\n",
    "  return ' '.join([match_ for match_ in matches if len(match_) > 4])"
   ]
  },
  {
   "cell_type": "code",
   "execution_count": null,
   "metadata": {
    "id": "lwE5KZSyIkDv"
   },
   "outputs": [],
   "source": [
    "df['Содержание БАВ'] = df['Химический состав.'].apply(lambda x: chemistry_compose(str(x)))"
   ]
  },
  {
   "cell_type": "code",
   "execution_count": null,
   "metadata": {
    "id": "8wLeIrNsrPHz"
   },
   "outputs": [],
   "source": [
    "dff = pd.read_csv('region_herb.csv', sep='\\t')\n",
    "dff = dff.rename(columns={'Растение': 'Название.'})\n",
    "dff['Название.'] = dff['Название.'].str.upper()\n",
    "merged_df = pd.merge(df, dff, on='Название.')"
   ]
  },
  {
   "cell_type": "code",
   "execution_count": null,
   "metadata": {
    "id": "U4jhHU3JlXVc"
   },
   "outputs": [],
   "source": [
    "merged_df.to_csv('merged_df.csv')"
   ]
  },
  {
   "cell_type": "code",
   "execution_count": null,
   "metadata": {
    "id": "luhhIYI60RPE"
   },
   "outputs": [],
   "source": [
    "df.to_excel('result/result_table.xlsx', index= False, encoding= 'windows-1251')"
   ]
  }
 ],
 "metadata": {
  "accelerator": "GPU",
  "colab": {
   "gpuType": "T4",
   "provenance": []
  },
  "gpuClass": "standard",
  "kernelspec": {
   "display_name": "Python 3",
   "language": "python",
   "name": "python3"
  },
  "language_info": {
   "codemirror_mode": {
    "name": "ipython",
    "version": 3
   },
   "file_extension": ".py",
   "mimetype": "text/x-python",
   "name": "python",
   "nbconvert_exporter": "python",
   "pygments_lexer": "ipython3",
   "version": "3.8.5"
  }
 },
 "nbformat": 4,
 "nbformat_minor": 1
}
